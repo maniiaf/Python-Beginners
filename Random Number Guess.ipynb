{
 "cells": [
  {
   "cell_type": "code",
   "execution_count": 1,
   "metadata": {},
   "outputs": [
    {
     "name": "stdout",
     "output_type": "stream",
     "text": [
      "Guess the number between 0-20: 15\n",
      "The difference is too high\n",
      "Actual Number is7, but your guess is15\n"
     ]
    }
   ],
   "source": [
    "import random\n",
    "number = random.randint(0,20)\n",
    "user_guess = int(input(\"Guess the number between 0-20: \"))\n",
    "difference = abs(number - user_guess)\n",
    "\n",
    "if difference == 0:\n",
    "    print (\"Excellent, you guessed the correct number\")\n",
    "elif difference > 5:\n",
    "    print(\"The difference is too high\")\n",
    "else:\n",
    "    print(\"you are very close to the number. But its wrong guess\")\n",
    "print(\"Actual Number is {}, but your guess is {}\".format(number, user_guess))\n"
   ]
  },
  {
   "cell_type": "code",
   "execution_count": null,
   "metadata": {},
   "outputs": [],
   "source": []
  }
 ],
 "metadata": {
  "kernelspec": {
   "display_name": "Python 3",
   "language": "python",
   "name": "python3"
  },
  "language_info": {
   "codemirror_mode": {
    "name": "ipython",
    "version": 3
   },
   "file_extension": ".py",
   "mimetype": "text/x-python",
   "name": "python",
   "nbconvert_exporter": "python",
   "pygments_lexer": "ipython3",
   "version": "3.7.3"
  }
 },
 "nbformat": 4,
 "nbformat_minor": 2
}
